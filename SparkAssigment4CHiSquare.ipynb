{
 "cells": [
  {
   "cell_type": "code",
   "execution_count": 30,
   "metadata": {},
   "outputs": [],
   "source": [
    "import findspark\n",
    "findspark.init()\n",
    "import pyspark\n",
    "import pandas as pd\n",
    "import csv\n",
    "import random\n",
    "from faker import Faker\n",
    "from datetime import datetime\n",
    "import numpy as np\n",
    "import matplotlib.pyplot as plt\n",
    "from __future__ import division \n",
    "from pyspark.sql import SQLContext\n",
    "from pyspark.ml.stat import ChiSquareTest\n",
    "from pyspark.sql.functions import col\n",
    "from pyspark.ml.linalg import Vectors, VectorUDT\n",
    "from pyspark.sql.functions import udf\n",
    "from pyspark.sql.types import FloatType\n",
    "from pyspark.mllib.stat import Statistics\n",
    "from pyspark.mllib.linalg import DenseVector\n"
   ]
  },
  {
   "cell_type": "code",
   "execution_count": 2,
   "metadata": {},
   "outputs": [],
   "source": [
    "conf = pyspark.SparkConf().setAppName(\"App\")\n",
    "conf = (conf.setMaster('local[*]')\n",
    "        .set('spark.executor.memory', '4G')\n",
    "        .set('spark.driver.memory', '4G')\n",
    "        .set('spark.driver.maxResultSize', '10G'))\n",
    "sc = pyspark.SparkContext(conf=conf)"
   ]
  },
  {
   "cell_type": "code",
   "execution_count": 801,
   "metadata": {},
   "outputs": [
    {
     "name": "stdout",
     "output_type": "stream",
     "text": [
      "44.0\n"
     ]
    }
   ],
   "source": [
    "min_value = 0\n",
    "max_value = 100\n",
    "x = np.random.uniform(min_value, max_value, 10000)\n",
    "def generate_normal_dist_random():\n",
    "    return round(x[np.random.choice(len(x), size=15, replace=False)].mean())\n",
    "print (generate_normal_dist_random())"
   ]
  },
  {
   "cell_type": "code",
   "execution_count": 802,
   "metadata": {},
   "outputs": [
    {
     "name": "stdout",
     "output_type": "stream",
     "text": [
      "CPU times: user 296 ms, sys: 4 ms, total: 300 ms\n",
      "Wall time: 301 ms\n"
     ]
    }
   ],
   "source": [
    "%%time\n",
    "#https://faker.readthedocs.io/en/latest/providers/faker.providers.address.html\n",
    "\n",
    "mu, sigma = 50, 0.1\n",
    "\n",
    "def create_test_data(use_rnd=True):\n",
    "    f=Faker('en_US') \n",
    "    g=open(\"students_scores.csv\",\"w\")\n",
    "    w=csv.writer(g)\n",
    "    w.writerow(('id','first_name','last_name','score'))\n",
    "    \n",
    "    \n",
    "    for call_line in range(250):\n",
    "        #print(call_line)\n",
    "        score = None\n",
    "        if use_rnd:\n",
    "            score = random.randrange(min_value,max_value,1)\n",
    "        else:\n",
    "            score = generate_normal_dist_random()\n",
    "            #score = np.random.normal(mu, sigma, 1)[0]\n",
    "        region = f.state_abbr()\n",
    "        first_name = f.first_name()\n",
    "        last_name = f.last_name()\n",
    "        w.writerow((call_line,\n",
    "                        first_name,\n",
    "                        last_name,\n",
    "                        score))\n",
    "    g.close()\n",
    "create_test_data(False)"
   ]
  },
  {
   "cell_type": "code",
   "execution_count": 803,
   "metadata": {},
   "outputs": [
    {
     "data": {
      "text/html": [
       "<div>\n",
       "<style>\n",
       "    .dataframe thead tr:only-child th {\n",
       "        text-align: right;\n",
       "    }\n",
       "\n",
       "    .dataframe thead th {\n",
       "        text-align: left;\n",
       "    }\n",
       "\n",
       "    .dataframe tbody tr th {\n",
       "        vertical-align: top;\n",
       "    }\n",
       "</style>\n",
       "<table border=\"1\" class=\"dataframe\">\n",
       "  <thead>\n",
       "    <tr style=\"text-align: right;\">\n",
       "      <th></th>\n",
       "      <th>id</th>\n",
       "      <th>first_name</th>\n",
       "      <th>last_name</th>\n",
       "      <th>score</th>\n",
       "    </tr>\n",
       "  </thead>\n",
       "  <tbody>\n",
       "    <tr>\n",
       "      <th>0</th>\n",
       "      <td>0</td>\n",
       "      <td>Lynn</td>\n",
       "      <td>Wright</td>\n",
       "      <td>68.0</td>\n",
       "    </tr>\n",
       "    <tr>\n",
       "      <th>1</th>\n",
       "      <td>1</td>\n",
       "      <td>Mia</td>\n",
       "      <td>Ramirez</td>\n",
       "      <td>52.0</td>\n",
       "    </tr>\n",
       "    <tr>\n",
       "      <th>2</th>\n",
       "      <td>2</td>\n",
       "      <td>Cassandra</td>\n",
       "      <td>Wilson</td>\n",
       "      <td>45.0</td>\n",
       "    </tr>\n",
       "    <tr>\n",
       "      <th>3</th>\n",
       "      <td>3</td>\n",
       "      <td>Cameron</td>\n",
       "      <td>Wood</td>\n",
       "      <td>36.0</td>\n",
       "    </tr>\n",
       "    <tr>\n",
       "      <th>4</th>\n",
       "      <td>4</td>\n",
       "      <td>Michelle</td>\n",
       "      <td>Thomas</td>\n",
       "      <td>45.0</td>\n",
       "    </tr>\n",
       "  </tbody>\n",
       "</table>\n",
       "</div>"
      ],
      "text/plain": [
       "   id first_name last_name  score\n",
       "0   0       Lynn    Wright   68.0\n",
       "1   1        Mia   Ramirez   52.0\n",
       "2   2  Cassandra    Wilson   45.0\n",
       "3   3    Cameron      Wood   36.0\n",
       "4   4   Michelle    Thomas   45.0"
      ]
     },
     "execution_count": 803,
     "metadata": {},
     "output_type": "execute_result"
    }
   ],
   "source": [
    "dfpd = pd.read_csv('students_scores.csv')\n",
    "dfpd.head()"
   ]
  },
  {
   "cell_type": "markdown",
   "metadata": {},
   "source": [
    "## Read the data"
   ]
  },
  {
   "cell_type": "code",
   "execution_count": 804,
   "metadata": {},
   "outputs": [
    {
     "name": "stdout",
     "output_type": "stream",
     "text": [
      "CPU times: user 0 ns, sys: 0 ns, total: 0 ns\n",
      "Wall time: 54.6 ms\n"
     ]
    }
   ],
   "source": [
    "%%time\n",
    "\n",
    "\n",
    "sqlContext = SQLContext(sc)\n",
    "\n",
    "#read CSV\n",
    "df = sqlContext.read.format('com.databricks.spark.csv').options(header='true', inferschema='true').load('students_scores.csv')"
   ]
  },
  {
   "cell_type": "code",
   "execution_count": 805,
   "metadata": {},
   "outputs": [
    {
     "name": "stdout",
     "output_type": "stream",
     "text": [
      "root\n",
      " |-- id: integer (nullable = true)\n",
      " |-- first_name: string (nullable = true)\n",
      " |-- last_name: string (nullable = true)\n",
      " |-- score: double (nullable = true)\n",
      "\n"
     ]
    }
   ],
   "source": [
    "df.printSchema()"
   ]
  },
  {
   "cell_type": "code",
   "execution_count": 806,
   "metadata": {
    "scrolled": true
   },
   "outputs": [
    {
     "name": "stdout",
     "output_type": "stream",
     "text": [
      "+---+----------+---------+-----+\n",
      "| id|first_name|last_name|score|\n",
      "+---+----------+---------+-----+\n",
      "|  0|      Lynn|   Wright| 68.0|\n",
      "|  1|       Mia|  Ramirez| 52.0|\n",
      "|  2| Cassandra|   Wilson| 45.0|\n",
      "|  3|   Cameron|     Wood| 36.0|\n",
      "|  4|  Michelle|   Thomas| 45.0|\n",
      "|  5|      Tami|   Flores| 64.0|\n",
      "|  6|      Sean|    Brown| 47.0|\n",
      "|  7| Elizabeth|    Reyes| 62.0|\n",
      "|  8|    Taylor|       Li| 55.0|\n",
      "|  9|    Thomas|  Russell| 53.0|\n",
      "| 10|   Chelsea|    Kirby| 46.0|\n",
      "| 11|      Mark|   Hardin| 56.0|\n",
      "| 12|   Rebecca|  Michael| 44.0|\n",
      "| 13|    Amanda| Williams| 54.0|\n",
      "| 14|   Matthew|   Benson| 47.0|\n",
      "| 15|    Cheryl|   Barnes| 43.0|\n",
      "| 16| Alexander|   Murphy| 48.0|\n",
      "| 17|   Natasha| Williams| 61.0|\n",
      "| 18|     Kelly|     Cole| 52.0|\n",
      "| 19|    Justin| Lawrence| 47.0|\n",
      "+---+----------+---------+-----+\n",
      "only showing top 20 rows\n",
      "\n"
     ]
    }
   ],
   "source": [
    "list_to_vector_udf = udf(lambda l: Vectors.dense(l), VectorUDT())\n",
    "df.show()\n",
    "df_with_vectors = df.select(\n",
    "    df[\"id\"], \n",
    "    list_to_vector_udf(df[\"score\"]).alias(\"score\")\n",
    ")"
   ]
  },
  {
   "cell_type": "code",
   "execution_count": 807,
   "metadata": {},
   "outputs": [
    {
     "name": "stdout",
     "output_type": "stream",
     "text": [
      "+---+------+\n",
      "| id| score|\n",
      "+---+------+\n",
      "|  0|[68.0]|\n",
      "|  1|[52.0]|\n",
      "|  2|[45.0]|\n",
      "|  3|[36.0]|\n",
      "|  4|[45.0]|\n",
      "|  5|[64.0]|\n",
      "|  6|[47.0]|\n",
      "|  7|[62.0]|\n",
      "|  8|[55.0]|\n",
      "|  9|[53.0]|\n",
      "| 10|[46.0]|\n",
      "| 11|[56.0]|\n",
      "| 12|[44.0]|\n",
      "| 13|[54.0]|\n",
      "| 14|[47.0]|\n",
      "| 15|[43.0]|\n",
      "| 16|[48.0]|\n",
      "| 17|[61.0]|\n",
      "| 18|[52.0]|\n",
      "| 19|[47.0]|\n",
      "+---+------+\n",
      "only showing top 20 rows\n",
      "\n"
     ]
    }
   ],
   "source": [
    "df_with_vectors.show()"
   ]
  },
  {
   "cell_type": "code",
   "execution_count": 808,
   "metadata": {},
   "outputs": [
    {
     "name": "stdout",
     "output_type": "stream",
     "text": [
      "Test with uniform\n",
      "Chi squared test summary:\n",
      "method: pearson\n",
      "degrees of freedom = 249 \n",
      "statistic = 52205.7401617117 \n",
      "pValue = 0.0 \n",
      "Very strong presumption against null hypothesis: observed follows the same distribution as expected..\n",
      "************************************************************\n",
      "Test with normal\n",
      "Chi squared test summary:\n",
      "method: pearson\n",
      "degrees of freedom = 249 \n",
      "statistic = 258.95049771794726 \n",
      "pValue = 0.31922421904977616 \n",
      "No presumption against null hypothesis: observed follows the same distribution as expected..\n"
     ]
    }
   ],
   "source": [
    "\n",
    "\n",
    "mvv_list = df_with_vectors.select('score').collect()\n",
    "normal_dist = DenseVector(np.random.normal(mu, sigma, len(mvv_list)))\n",
    "uniform_dist = DenseVector(np.random.uniform(min_value, max_value,len(mvv_list)))\n",
    "print('Test with uniform')\n",
    "observed = DenseVector(mvv_list)\n",
    "r = Statistics.chiSqTest(observed, uniform_dist)\n",
    "print(r)\n",
    "\n",
    "print('***'*20)\n",
    "print('Test with normal')\n",
    "r = Statistics.chiSqTest(observed, normal_dist)\n",
    "print(r)\n"
   ]
  },
  {
   "cell_type": "code",
   "execution_count": 809,
   "metadata": {},
   "outputs": [
    {
     "name": "stdout",
     "output_type": "stream",
     "text": [
      "root\n",
      " |-- id: integer (nullable = true)\n",
      " |-- score: vector (nullable = true)\n",
      "\n"
     ]
    }
   ],
   "source": [
    "df_with_vectors.printSchema()"
   ]
  },
  {
   "cell_type": "code",
   "execution_count": 810,
   "metadata": {},
   "outputs": [
    {
     "data": {
      "image/png": "[encoded data removed]",
      "text/plain": [
       "<matplotlib.figure.Figure at 0x7f697c651a10>"
      ]
     },
     "metadata": {},
     "output_type": "display_data"
    }
   ],
   "source": [
    "\n",
    "count, bins, ignored = plt.hist(dfpd['score'], 30, normed=True)\n",
    "#plt.show()\n",
    "\n",
    "variance = np.square(sigma)\n",
    "f = np.exp(-np.square(bins-mu)/2*variance)/(np.sqrt(2*np.pi*variance))/max_value\n",
    "plt.plot(bins,f, linewidth=2, color='r')\n",
    "\n",
    "plt.show()"
   ]
  },
  {
   "cell_type": "code",
   "execution_count": null,
   "metadata": {},
   "outputs": [],
   "source": [
    "    "
   ]
  },
  {
   "cell_type": "code",
   "execution_count": null,
   "metadata": {},
   "outputs": [],
   "source": []
  },
  {
   "cell_type": "code",
   "execution_count": null,
   "metadata": {},
   "outputs": [],
   "source": []
  },
  {
   "cell_type": "code",
   "execution_count": null,
   "metadata": {},
   "outputs": [],
   "source": []
  },
  {
   "cell_type": "code",
   "execution_count": null,
   "metadata": {},
   "outputs": [],
   "source": []
  },
  {
   "cell_type": "code",
   "execution_count": null,
   "metadata": {},
   "outputs": [],
   "source": []
  }
 ],
 "metadata": {
  "anaconda-cloud": {},
  "kernelspec": {
   "display_name": "Python [conda root]",
   "language": "python",
   "name": "conda-root-py"
  },
  "language_info": {
   "codemirror_mode": {
    "name": "ipython",
    "version": 2
   },
   "file_extension": ".py",
   "mimetype": "text/x-python",
   "name": "python",
   "nbconvert_exporter": "python",
   "pygments_lexer": "ipython2",
   "version": "2.7.12"
  }
 },
 "nbformat": 4,
 "nbformat_minor": 2
}
