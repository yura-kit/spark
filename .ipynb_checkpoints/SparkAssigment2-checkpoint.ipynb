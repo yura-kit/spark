{
 "cells": [
  {
   "cell_type": "code",
   "execution_count": 1,
   "metadata": {},
   "outputs": [],
   "source": [
    "import findspark\n",
    "findspark.init()\n",
    "import pyspark\n",
    "import csv\n",
    "import random\n",
    "from faker import Faker\n",
    "from datetime import datetime\n",
    "import random\n",
    "import pandas as pd\n",
    "from pyspark.sql import SQLContext\n",
    "from pyspark.sql.types import *\n",
    "from pyspark.sql.functions import *\n",
    "from pyspark.sql.functions import *\n",
    "from pyspark.sql import Window\n",
    "from pyspark.sql.functions import col\n",
    "\n",
    "conf = pyspark.SparkConf().setAppName(\"App\")\n",
    "conf = (conf.setMaster('local[*]')\n",
    "        .set('spark.executor.memory', '4G')\n",
    "        .set('spark.driver.memory', '4G')\n",
    "        .set('spark.driver.maxResultSize', '10G'))\n",
    "sc = pyspark.SparkContext(conf=conf)\n"
   ]
  },
  {
   "cell_type": "code",
   "execution_count": 3,
   "metadata": {},
   "outputs": [],
   "source": [
    "def create_test_data():\n",
    "    f=Faker('en_GB') \n",
    "    g=open(\"orders.csv\",\"w\")\n",
    "    w=csv.writer(g)\n",
    "    w.writerow(('order_id','order_item_id','customer_id','creation_date', 'completion_date',\n",
    "                'product_id','qnt','cost','category_id'))\n",
    "    categories = {'HTC':{'htcone':100, 'htc2':110, 'htc3':220, 'htc4':1000},\n",
    "                  'Samsung':{'sam1':21, 'sam2':50, 'sam3':20},\n",
    "                  'Apple':{'app1':300, 'app2':10, 'app3':20}}\n",
    "    #products = {'HTC','Samsung','Apple'}\n",
    "    \n",
    "    for orderId in range(100000):\n",
    "        customer = random.randrange(1,1000,1)\n",
    "        itemsinorder = random.randrange(1,5,1)\n",
    "        #print(itemsinorder)\n",
    "        for orderItemId in range(itemsinorder):\n",
    "            qnt = random.choice([1,2,3])\n",
    "            category = random.choice(categories.items())\n",
    "            #print(category)\n",
    "            #print(category[0])\n",
    "            product = random.choice(category[1].items())\n",
    "            #print(product)\n",
    "            #print(product[1])\n",
    "            w.writerow((orderId+1,\n",
    "                        orderItemId+1,\n",
    "                        customer,\n",
    "                        f.date_time_this_month(before_now=True, after_now=False, tzinfo=None),\n",
    "                        f.date_time_this_month(before_now=False, after_now=True, tzinfo=None),\n",
    "                        product[0],\n",
    "                        qnt,\n",
    "                        product[1],\n",
    "                        category[0]))\n",
    "    g.close()\n",
    "create_test_data()"
   ]
  },
  {
   "cell_type": "code",
   "execution_count": 4,
   "metadata": {},
   "outputs": [
    {
     "name": "stdout",
     "output_type": "stream",
     "text": [
      "<class 'pandas.core.frame.DataFrame'>\n",
      "RangeIndex: 250238 entries, 0 to 250237\n",
      "Data columns (total 9 columns):\n",
      "order_id           250238 non-null int64\n",
      "order_item_id      250238 non-null int64\n",
      "customer_id        250238 non-null int64\n",
      "creation_date      250238 non-null object\n",
      "completion_date    250238 non-null object\n",
      "product_id         250238 non-null object\n",
      "qnt                250238 non-null int64\n",
      "cost               250238 non-null int64\n",
      "category_id        250238 non-null object\n",
      "dtypes: int64(5), object(4)\n",
      "memory usage: 17.2+ MB\n"
     ]
    }
   ],
   "source": [
    "df = pd.read_csv('orders.csv')\n",
    "df.info()"
   ]
  },
  {
   "cell_type": "markdown",
   "metadata": {},
   "source": [
    "## Read the data"
   ]
  },
  {
   "cell_type": "code",
   "execution_count": 5,
   "metadata": {},
   "outputs": [
    {
     "name": "stdout",
     "output_type": "stream",
     "text": [
      "CPU times: user 4 ms, sys: 0 ns, total: 4 ms\n",
      "Wall time: 4.01 s\n"
     ]
    }
   ],
   "source": [
    "%%time\n",
    "\n",
    "sqlContext = SQLContext(sc)\n",
    "taxi_df = sqlContext.read.format('com.databricks.spark.csv').options(header='true', inferschema='true').load('orders.csv')"
   ]
  },
  {
   "cell_type": "code",
   "execution_count": 6,
   "metadata": {},
   "outputs": [
    {
     "name": "stdout",
     "output_type": "stream",
     "text": [
      "+--------+-------------+-----------+-------------------+-------------------+----------+---+----+-----------+\n",
      "|order_id|order_item_id|customer_id|      creation_date|    completion_date|product_id|qnt|cost|category_id|\n",
      "+--------+-------------+-----------+-------------------+-------------------+----------+---+----+-----------+\n",
      "|       1|            1|        985|2018-01-08 22:10:13|2018-01-18 04:41:36|      app2|  3|  10|      Apple|\n",
      "|       1|            2|        985|2018-01-09 06:51:27|2018-01-25 05:36:40|      sam1|  3|  21|    Samsung|\n",
      "|       1|            3|        985|2018-01-06 14:28:38|2018-01-28 15:43:54|      app1|  3| 300|      Apple|\n",
      "|       2|            1|        741|2018-01-03 19:46:18|2018-01-13 23:11:08|      app1|  3| 300|      Apple|\n",
      "|       3|            1|        384|2018-01-06 05:26:44|2018-01-12 09:29:07|      htc3|  3| 220|        HTC|\n",
      "|       3|            2|        384|2018-01-05 21:03:29|2018-01-12 08:31:25|      app1|  2| 300|      Apple|\n",
      "|       3|            3|        384|2018-01-07 09:02:53|2018-01-17 23:33:37|      htc4|  1|1000|        HTC|\n",
      "|       3|            4|        384|2018-01-01 08:31:32|2018-01-21 19:58:51|      htc3|  3| 220|        HTC|\n",
      "|       4|            1|        792|2018-01-08 17:53:52|2018-01-23 02:28:33|      sam3|  3|  20|    Samsung|\n",
      "|       4|            2|        792|2018-01-01 15:59:42|2018-01-26 00:44:05|      app2|  2|  10|      Apple|\n",
      "|       5|            1|        980|2018-01-01 17:09:10|2018-01-22 08:02:01|      htc3|  1| 220|        HTC|\n",
      "|       6|            1|        486|2018-01-05 04:39:00|2018-01-31 19:59:57|      sam3|  1|  20|    Samsung|\n",
      "|       6|            2|        486|2018-01-01 06:55:09|2018-01-13 04:07:28|      sam3|  2|  20|    Samsung|\n",
      "|       6|            3|        486|2018-01-02 22:22:16|2018-01-24 18:44:23|      app2|  1|  10|      Apple|\n",
      "|       7|            1|        657|2018-01-02 14:31:31|2018-01-21 04:42:48|      sam3|  1|  20|    Samsung|\n",
      "|       7|            2|        657|2018-01-09 20:53:35|2018-01-21 17:38:32|      htc3|  1| 220|        HTC|\n",
      "|       7|            3|        657|2018-01-08 09:32:02|2018-01-28 18:04:56|      app2|  1|  10|      Apple|\n",
      "|       7|            4|        657|2018-01-06 00:57:28|2018-01-14 11:37:58|      app2|  1|  10|      Apple|\n",
      "|       8|            1|        391|2018-01-05 20:23:36|2018-01-26 13:51:08|      app1|  2| 300|      Apple|\n",
      "|       8|            2|        391|2018-01-08 19:45:12|2018-01-14 04:59:58|      app3|  1|  20|      Apple|\n",
      "+--------+-------------+-----------+-------------------+-------------------+----------+---+----+-----------+\n",
      "only showing top 20 rows\n",
      "\n"
     ]
    }
   ],
   "source": [
    "taxi_df.show()"
   ]
  },
  {
   "cell_type": "code",
   "execution_count": 7,
   "metadata": {},
   "outputs": [],
   "source": [
    "taxi_df.registerTempTable(\"orders\")"
   ]
  },
  {
   "cell_type": "code",
   "execution_count": 8,
   "metadata": {},
   "outputs": [
    {
     "name": "stdout",
     "output_type": "stream",
     "text": [
      "root\n",
      " |-- order_id: integer (nullable = true)\n",
      " |-- order_item_id: integer (nullable = true)\n",
      " |-- customer_id: integer (nullable = true)\n",
      " |-- creation_date: timestamp (nullable = true)\n",
      " |-- completion_date: timestamp (nullable = true)\n",
      " |-- product_id: string (nullable = true)\n",
      " |-- qnt: integer (nullable = true)\n",
      " |-- cost: integer (nullable = true)\n",
      " |-- category_id: string (nullable = true)\n",
      "\n"
     ]
    }
   ],
   "source": [
    "taxi_df.printSchema()"
   ]
  },
  {
   "cell_type": "code",
   "execution_count": 9,
   "metadata": {},
   "outputs": [],
   "source": [
    "df2 = sqlContext.sql('''SELECT product_id,\n",
    "                          category_id,\n",
    "                          sum(cost * qnt) as revenue\n",
    "                        FROM orders\n",
    "                      group by product_id, category_id order by revenue desc''')"
   ]
  },
  {
   "cell_type": "code",
   "execution_count": 10,
   "metadata": {},
   "outputs": [
    {
     "name": "stdout",
     "output_type": "stream",
     "text": [
      "+----------+-----------+--------+\n",
      "|product_id|category_id| revenue|\n",
      "+----------+-----------+--------+\n",
      "|      htc4|        HTC|41508000|\n",
      "|      app1|      Apple|16788600|\n",
      "|      htc3|        HTC| 9144300|\n",
      "|      htc2|        HTC| 4595690|\n",
      "|    htcone|        HTC| 4244000|\n",
      "|      sam2|    Samsung| 2799850|\n",
      "|      sam1|    Samsung| 1161615|\n",
      "|      sam3|    Samsung| 1114920|\n",
      "|      app3|      Apple| 1105620|\n",
      "|      app2|      Apple|  557930|\n",
      "+----------+-----------+--------+\n",
      "\n"
     ]
    }
   ],
   "source": [
    "df2.show()"
   ]
  },
  {
   "cell_type": "code",
   "execution_count": 17,
   "metadata": {},
   "outputs": [
    {
     "name": "stdout",
     "output_type": "stream",
     "text": [
      "+----------+-----------+--------+----------+\n",
      "|product_id|category_id| revenue|dense_rank|\n",
      "+----------+-----------+--------+----------+\n",
      "|      sam2|    Samsung| 2799850|         1|\n",
      "|      sam1|    Samsung| 1161615|         2|\n",
      "|      sam3|    Samsung| 1114920|         3|\n",
      "|      htc4|        HTC|41508000|         1|\n",
      "|      htc3|        HTC| 9144300|         2|\n",
      "|      htc2|        HTC| 4595690|         3|\n",
      "|      app1|      Apple|16788600|         1|\n",
      "|      app3|      Apple| 1105620|         2|\n",
      "|      app2|      Apple|  557930|         3|\n",
      "+----------+-----------+--------+----------+\n",
      "\n"
     ]
    }
   ],
   "source": [
    "window = Window.partitionBy(\"category_id\").orderBy(col(\"revenue\").desc())\n",
    "N = 3\n",
    "df2.withColumn(\"dense_rank\", dense_rank().over(window)).filter(col(\"dense_rank\") <= N ).show()\n"
   ]
  },
  {
   "cell_type": "code",
   "execution_count": null,
   "metadata": {},
   "outputs": [],
   "source": []
  },
  {
   "cell_type": "code",
   "execution_count": null,
   "metadata": {},
   "outputs": [],
   "source": []
  },
  {
   "cell_type": "code",
   "execution_count": null,
   "metadata": {},
   "outputs": [],
   "source": []
  }
 ],
 "metadata": {
  "anaconda-cloud": {},
  "kernelspec": {
   "display_name": "Python [conda root]",
   "language": "python",
   "name": "conda-root-py"
  },
  "language_info": {
   "codemirror_mode": {
    "name": "ipython",
    "version": 2
   },
   "file_extension": ".py",
   "mimetype": "text/x-python",
   "name": "python",
   "nbconvert_exporter": "python",
   "pygments_lexer": "ipython2",
   "version": "2.7.12"
  }
 },
 "nbformat": 4,
 "nbformat_minor": 2
}
