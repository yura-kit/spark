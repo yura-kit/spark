{
 "cells": [
  {
   "cell_type": "code",
   "execution_count": 1,
   "metadata": {},
   "outputs": [],
   "source": [
    "import findspark\n",
    "findspark.init()\n",
    "import pyspark\n",
    "from pyspark.sql import SQLContext\n",
    "from pyspark.sql.types import *\n",
    "from pyspark.sql.functions import *\n",
    "import pandas as pd\n",
    "import csv\n",
    "import random\n",
    "from faker import Faker\n",
    "from datetime import datetime\n",
    "import random\n",
    "from pyspark.sql.functions import *\n",
    "from pyspark.sql import Window\n",
    "from pyspark.sql.functions import col\n",
    "\n",
    "conf = pyspark.SparkConf().setAppName(\"App\")\n",
    "conf = (conf.setMaster('local[*]')\n",
    "        .set('spark.executor.memory', '4G')\n",
    "        .set('spark.driver.memory', '4G')\n",
    "        .set('spark.driver.maxResultSize', '10G'))\n",
    "sc = pyspark.SparkContext(conf=conf)"
   ]
  },
  {
   "cell_type": "code",
   "execution_count": 4,
   "metadata": {},
   "outputs": [
    {
     "name": "stdout",
     "output_type": "stream",
     "text": [
      "CPU times: user 48.2 s, sys: 1.44 s, total: 49.7 s\n",
      "Wall time: 49.6 s\n"
     ]
    }
   ],
   "source": [
    "%%time\n",
    "#https://faker.readthedocs.io/en/latest/providers/faker.providers.address.html\n",
    "\n",
    "def create_test_data():\n",
    "    f=Faker('en_US') \n",
    "    g=open(\"phone_logs.csv\",\"w\")\n",
    "    w=csv.writer(g)\n",
    "    w.writerow(('start_time','from','to','duration', 'region','position'))\n",
    "    \n",
    "    for call_line in range(250000):\n",
    "        duration = random.randrange(1,600,1)\n",
    "        start_time = f.date_time_this_month(before_now=True, after_now=False, tzinfo=None)\n",
    "        region = f.state_abbr()\n",
    "        #call_from = random.randrange(1,600000,1)\n",
    "        call_from = f.msisdn()\n",
    "        call_to = f.msisdn()\n",
    "        position = str(f.longitude()) + '|' + str(f.latitude())\n",
    "        w.writerow((start_time,\n",
    "                        call_from,\n",
    "                        call_to,\n",
    "                        duration,\n",
    "                        region,\n",
    "                        position))\n",
    "    g.close()\n",
    "create_test_data()"
   ]
  },
  {
   "cell_type": "code",
   "execution_count": 5,
   "metadata": {},
   "outputs": [
    {
     "name": "stdout",
     "output_type": "stream",
     "text": [
      "<class 'pandas.core.frame.DataFrame'>\n",
      "RangeIndex: 250000 entries, 0 to 249999\n",
      "Data columns (total 6 columns):\n",
      "start_time    250000 non-null object\n",
      "from          250000 non-null int64\n",
      "to            250000 non-null int64\n",
      "duration      250000 non-null int64\n",
      "region        250000 non-null object\n",
      "position      250000 non-null object\n",
      "dtypes: int64(3), object(3)\n",
      "memory usage: 11.4+ MB\n"
     ]
    }
   ],
   "source": [
    "df = pd.read_csv('phone_logs.csv')\n",
    "df.info()"
   ]
  },
  {
   "cell_type": "markdown",
   "metadata": {},
   "source": [
    "## Read the data"
   ]
  },
  {
   "cell_type": "code",
   "execution_count": 7,
   "metadata": {},
   "outputs": [
    {
     "name": "stdout",
     "output_type": "stream",
     "text": [
      "CPU times: user 12 ms, sys: 0 ns, total: 12 ms\n",
      "Wall time: 3.35 s\n"
     ]
    }
   ],
   "source": [
    "%%time\n",
    "sqlContext = SQLContext(sc)\n",
    "\n",
    "#read CSV\n",
    "df = sqlContext.read.format('com.databricks.spark.csv').options(header='true', inferschema='true').load('phone_logs.csv')"
   ]
  },
  {
   "cell_type": "code",
   "execution_count": 8,
   "metadata": {},
   "outputs": [
    {
     "name": "stdout",
     "output_type": "stream",
     "text": [
      "+-------------------+-------------+-------------+--------+------+--------------------+\n",
      "|         start_time|         from|           to|duration|region|            position|\n",
      "+-------------------+-------------+-------------+--------+------+--------------------+\n",
      "|2018-01-14 18:11:47|2008143579347|8915430633821|     121|    IA|136.144484|76.578116|\n",
      "|2018-01-05 13:29:41|6327084691796|5866415777536|     116|    GU|-98.028822|26.617...|\n",
      "|2018-01-14 19:11:43| 174185996314|8093019252261|     180|    SC|8.535783|-62.4042065|\n",
      "|2018-01-02 01:01:40|4635352389914|7232688231735|     173|    OH|64.535337|-86.098...|\n",
      "|2018-01-12 21:39:44|7354660319439|7565515645157|     369|    NC|-124.866182|12.56...|\n",
      "|2018-01-05 08:21:31|4296776422700|9565956723960|     274|    ID|-18.500108|-33.12...|\n",
      "|2018-01-05 04:06:43|1129732342357|7110853029520|     364|    DC| 32.258607|14.231451|\n",
      "|2018-01-11 19:40:58|7462618070254|8840972218289|     101|    KY|102.040054|-42.59...|\n",
      "|2018-01-10 06:40:00|7390280538002|7240644730220|      57|    MA|92.382683|-27.655...|\n",
      "|2018-01-13 16:33:03| 594770727566|9113287078123|     481|    HI|66.094545|-44.186785|\n",
      "|2018-01-16 23:59:04|4333383052884|5928077324497|     421|    MO|-70.257858|-83.61...|\n",
      "|2018-01-13 04:58:31|7122672301525|9710431530361|      34|    MH|-92.298797|-58.26...|\n",
      "|2018-01-12 20:25:41|9280131211511|5734139920597|     123|    MP|-33.615591|-68.64...|\n",
      "|2018-01-07 11:34:33|7908545420144|9425187164706|      31|    TX|-15.502397|47.780...|\n",
      "|2018-01-05 21:45:27|5755326402833|4297243842630|      73|    GA|-68.588286|-19.10...|\n",
      "|2018-01-04 17:37:57|6216169146948|1337512103285|      71|    MH|-85.530903|18.412...|\n",
      "|2018-01-11 01:33:58|3206595272158|3190285407421|     541|    VI| 12.728610|35.609561|\n",
      "|2018-01-02 03:53:50|9275454732826|5179768556771|     397|    KS|-168.620650|12.06...|\n",
      "|2018-01-12 04:50:13|5358673703379|8725648471575|     565|    FM|-120.571985|-41.1...|\n",
      "|2018-01-17 15:24:25| 473027815062|1220411394966|     452|    IA|119.359071|55.196257|\n",
      "+-------------------+-------------+-------------+--------+------+--------------------+\n",
      "only showing top 20 rows\n",
      "\n"
     ]
    }
   ],
   "source": [
    "df.show()"
   ]
  },
  {
   "cell_type": "code",
   "execution_count": 9,
   "metadata": {},
   "outputs": [],
   "source": [
    "df.registerTempTable(\"calls\")"
   ]
  },
  {
   "cell_type": "code",
   "execution_count": 10,
   "metadata": {},
   "outputs": [
    {
     "name": "stdout",
     "output_type": "stream",
     "text": [
      "root\n",
      " |-- start_time: timestamp (nullable = true)\n",
      " |-- from: long (nullable = true)\n",
      " |-- to: long (nullable = true)\n",
      " |-- duration: integer (nullable = true)\n",
      " |-- region: string (nullable = true)\n",
      " |-- position: string (nullable = true)\n",
      "\n"
     ]
    }
   ],
   "source": [
    "df.printSchema()"
   ]
  },
  {
   "cell_type": "code",
   "execution_count": null,
   "metadata": {},
   "outputs": [],
   "source": []
  },
  {
   "cell_type": "code",
   "execution_count": 11,
   "metadata": {},
   "outputs": [],
   "source": [
    "#df.groupby('from','region').agg(sum('duration').alias('total_time')).show()\n",
    "    "
   ]
  },
  {
   "cell_type": "code",
   "execution_count": null,
   "metadata": {},
   "outputs": [],
   "source": []
  },
  {
   "cell_type": "code",
   "execution_count": 12,
   "metadata": {},
   "outputs": [],
   "source": [
    "\n",
    "def calculate_statistic(data_frame, N=5):\n",
    "    data_frame = data_frame.groupby('from','region').agg(sum('duration').alias('total_time'))\n",
    "    window = Window.partitionBy(\"region\").orderBy(col(\"total_time\").desc())\n",
    "    data_frame = data_frame.withColumn(\"rank\", dense_rank().over(window))\n",
    "    return data_frame.withColumn('rnum', row_number().over(window)).filter(col(\"rnum\") <= N)\n",
    "    \n"
   ]
  },
  {
   "cell_type": "code",
   "execution_count": 13,
   "metadata": {},
   "outputs": [
    {
     "name": "stdout",
     "output_type": "stream",
     "text": [
      "+-------------+------+----------+----+----+\n",
      "|         from|region|total_time|rank|rnum|\n",
      "+-------------+------+----------+----+----+\n",
      "|5746651522533|    AZ|       599|   1|   1|\n",
      "|5026008121924|    AZ|       599|   1|   2|\n",
      "|7372969699888|    AZ|       599|   1|   3|\n",
      "|9601834467372|    AZ|       599|   1|   4|\n",
      "|5218367820017|    AZ|       599|   1|   5|\n",
      "|4157535881752|    SC|       599|   1|   1|\n",
      "|1441330719479|    SC|       599|   1|   2|\n",
      "|3524078496258|    SC|       599|   1|   3|\n",
      "|7931358776272|    SC|       599|   1|   4|\n",
      "|4185932299010|    SC|       599|   1|   5|\n",
      "|8617580335321|    LA|       599|   1|   1|\n",
      "|2360814160828|    LA|       599|   1|   2|\n",
      "|7317897713460|    LA|       599|   1|   3|\n",
      "|1016923998080|    LA|       599|   1|   4|\n",
      "| 124684958630|    LA|       599|   1|   5|\n",
      "|7521802805458|    MN|       599|   1|   1|\n",
      "|8148129313009|    MN|       599|   1|   2|\n",
      "|4323290802591|    MN|       599|   1|   3|\n",
      "|6817126451767|    MN|       599|   1|   4|\n",
      "|8875700759840|    MN|       599|   1|   5|\n",
      "+-------------+------+----------+----+----+\n",
      "only showing top 20 rows\n",
      "\n",
      "CPU times: user 8 ms, sys: 4 ms, total: 12 ms\n",
      "Wall time: 2.99 s\n"
     ]
    }
   ],
   "source": [
    "%%time\n",
    "N = 5\n",
    "df2 = calculate_statistic(df, N)\n",
    "df2.show()"
   ]
  },
  {
   "cell_type": "code",
   "execution_count": 14,
   "metadata": {},
   "outputs": [
    {
     "name": "stdout",
     "output_type": "stream",
     "text": [
      "+------+------+----------+----+----+\n",
      "|  from|region|total_time|rank|rnum|\n",
      "+------+------+----------+----+----+\n",
      "|304799|    AZ|      1358|   1|   1|\n",
      "|173140|    AZ|      1303|   2|   2|\n",
      "|203211|    AZ|      1292|   3|   3|\n",
      "|335253|    AZ|      1241|   4|   4|\n",
      "|592513|    AZ|      1223|   5|   5|\n",
      "|383799|    SC|      1365|   1|   1|\n",
      "|531464|    SC|      1343|   2|   2|\n",
      "|470616|    SC|      1322|   3|   3|\n",
      "|467360|    SC|      1301|   4|   4|\n",
      "|361734|    SC|      1290|   5|   5|\n",
      "|402650|    LA|      1604|   1|   1|\n",
      "|328353|    LA|      1582|   2|   2|\n",
      "|436735|    LA|      1509|   3|   3|\n",
      "|197125|    LA|      1410|   4|   4|\n",
      "|434332|    LA|      1387|   5|   5|\n",
      "|326652|    MN|      1523|   1|   1|\n",
      "| 79227|    MN|      1454|   2|   2|\n",
      "|226773|    MN|      1374|   3|   3|\n",
      "|199326|    MN|      1283|   4|   4|\n",
      "|287831|    MN|      1244|   5|   5|\n",
      "+------+------+----------+----+----+\n",
      "only showing top 20 rows\n",
      "\n",
      "CPU times: user 8 ms, sys: 0 ns, total: 8 ms\n",
      "Wall time: 3.18 s\n"
     ]
    }
   ],
   "source": [
    "%%time\n",
    "#df.write.parquet('input-parquet')\n",
    "df_parquet = sqlContext.read.parquet('input-parquet')\n",
    "df2 = calculate_statistic(df_parquet, N)\n",
    "df2.show()"
   ]
  },
  {
   "cell_type": "code",
   "execution_count": null,
   "metadata": {},
   "outputs": [],
   "source": []
  }
 ],
 "metadata": {
  "anaconda-cloud": {},
  "kernelspec": {
   "display_name": "Python [conda root]",
   "language": "python",
   "name": "conda-root-py"
  },
  "language_info": {
   "codemirror_mode": {
    "name": "ipython",
    "version": 2
   },
   "file_extension": ".py",
   "mimetype": "text/x-python",
   "name": "python",
   "nbconvert_exporter": "python",
   "pygments_lexer": "ipython2",
   "version": "2.7.12"
  }
 },
 "nbformat": 4,
 "nbformat_minor": 2
}
